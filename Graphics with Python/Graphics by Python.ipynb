{
 "cells": [
  {
   "cell_type": "markdown",
   "id": "d6d4ee55-f170-4e08-a5ea-a64142271950",
   "metadata": {},
   "source": [
    "As a millenial Kid Turtle holds a great place in our memories like when in school the period was Computer Science and in Lab we work on turtle to create different geomentrical shapes, Thatswhy i created this mini project using python, its simple just imagine a robotic turtle to create shapes"
   ]
  },
  {
   "cell_type": "code",
   "execution_count": null,
   "id": "549260f1-034a-4ae1-a283-5854d21b1678",
   "metadata": {},
   "outputs": [],
   "source": [
    "import turtle\n",
    "colors=['red','purple','blue','green','orange','yellow']\n",
    "t=turtle.Pen()\n",
    "turtle.bgcolor('black')\n",
    "for x in range(360):\n",
    "    t.pencolor(colors[x%6])\n",
    "    t.width(x/100+1)\n",
    "    t.forward(x)\n",
    "    t.left(59)"
   ]
  },
  {
   "cell_type": "code",
   "execution_count": null,
   "id": "d825d6ee-712a-4c10-8a64-047935a15c76",
   "metadata": {},
   "outputs": [],
   "source": []
  }
 ],
 "metadata": {
  "kernelspec": {
   "display_name": "Python 3 (ipykernel)",
   "language": "python",
   "name": "python3"
  },
  "language_info": {
   "codemirror_mode": {
    "name": "ipython",
    "version": 3
   },
   "file_extension": ".py",
   "mimetype": "text/x-python",
   "name": "python",
   "nbconvert_exporter": "python",
   "pygments_lexer": "ipython3",
   "version": "3.12.8"
  }
 },
 "nbformat": 4,
 "nbformat_minor": 5
}
