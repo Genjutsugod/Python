{
 "cells": [
  {
   "cell_type": "raw",
   "id": "753c487e-9527-4809-aa3d-0cd61b407d72",
   "metadata": {},
   "source": [
    "In this Game System will guess a number and it will return true if we guessed it right it ll return you guessed it right. \n",
    "It is a good to understand the basic principle of If else statement and how a while loop works"
   ]
  },
  {
   "cell_type": "code",
   "execution_count": 1,
   "id": "085ffdbd-dda0-4e60-b061-e70804186aa1",
   "metadata": {},
   "outputs": [],
   "source": [
    "#first we will import random module\n",
    "import random\n",
    "# now we will create a range from 1 to 100 otherwise thee will be many possibilities and it will be hard to guess \n",
    "n = random.randrange(1,100)"
   ]
  },
  {
   "cell_type": "code",
   "execution_count": 4,
   "id": "7c94c2f4-faba-43fa-ab20-3ecaaba7d2bb",
   "metadata": {},
   "outputs": [
    {
     "name": "stdin",
     "output_type": "stream",
     "text": [
      "Enter any number between 1 to 100:  45\n"
     ]
    },
    {
     "name": "stdout",
     "output_type": "stream",
     "text": [
      "Too high guess again\n"
     ]
    },
    {
     "name": "stdin",
     "output_type": "stream",
     "text": [
      "Enter number again:  25\n"
     ]
    },
    {
     "name": "stdout",
     "output_type": "stream",
     "text": [
      "Too high guess again\n"
     ]
    },
    {
     "name": "stdin",
     "output_type": "stream",
     "text": [
      "Enter number again:  10\n"
     ]
    },
    {
     "name": "stdout",
     "output_type": "stream",
     "text": [
      "Too high guess again\n"
     ]
    },
    {
     "name": "stdin",
     "output_type": "stream",
     "text": [
      "Enter number again:  9\n"
     ]
    },
    {
     "name": "stdout",
     "output_type": "stream",
     "text": [
      "Too high guess again\n"
     ]
    },
    {
     "name": "stdin",
     "output_type": "stream",
     "text": [
      "Enter number again:  8\n"
     ]
    },
    {
     "name": "stdout",
     "output_type": "stream",
     "text": [
      "Too high guess again\n"
     ]
    },
    {
     "name": "stdin",
     "output_type": "stream",
     "text": [
      "Enter number again:  7\n"
     ]
    },
    {
     "name": "stdout",
     "output_type": "stream",
     "text": [
      "Too high guess again\n"
     ]
    },
    {
     "name": "stdin",
     "output_type": "stream",
     "text": [
      "Enter number again:  6\n"
     ]
    },
    {
     "name": "stdout",
     "output_type": "stream",
     "text": [
      "Too high guess again\n"
     ]
    },
    {
     "name": "stdin",
     "output_type": "stream",
     "text": [
      "Enter number again:  5\n"
     ]
    },
    {
     "name": "stdout",
     "output_type": "stream",
     "text": [
      "Too high guess again\n"
     ]
    },
    {
     "name": "stdin",
     "output_type": "stream",
     "text": [
      "Enter number again:  4\n"
     ]
    },
    {
     "name": "stdout",
     "output_type": "stream",
     "text": [
      "Too high guess again\n"
     ]
    },
    {
     "name": "stdin",
     "output_type": "stream",
     "text": [
      "Enter number again:  3\n"
     ]
    },
    {
     "name": "stdout",
     "output_type": "stream",
     "text": [
      "You are goddamn right !!\n"
     ]
    }
   ],
   "source": [
    "#now we will take input from user \n",
    "guess = int(input('Enter any number between 1 to 100: '))\n",
    "while n != guess:   #means if n is not equal to the input guess\n",
    "    #if guess is smaller than n\n",
    "    if guess < n:\n",
    "        print('too low guess again')\n",
    "        #to again ask for input\n",
    "        guess = int(input('Enter number again: '))\n",
    "    #if guess is larger than n\n",
    "    elif guess > n:\n",
    "        print('Too high guess again')\n",
    "        guess = int(input('Enter number again: '))\n",
    "    #if guess is equal to n terminate the while loop\n",
    "    else:\n",
    "        break\n",
    "print('You are goddamn right !!')"
   ]
  },
  {
   "cell_type": "code",
   "execution_count": null,
   "id": "c9a67928-bc76-48c7-a198-d345748dc2e0",
   "metadata": {},
   "outputs": [],
   "source": []
  }
 ],
 "metadata": {
  "kernelspec": {
   "display_name": "Python 3 (ipykernel)",
   "language": "python",
   "name": "python3"
  },
  "language_info": {
   "codemirror_mode": {
    "name": "ipython",
    "version": 3
   },
   "file_extension": ".py",
   "mimetype": "text/x-python",
   "name": "python",
   "nbconvert_exporter": "python",
   "pygments_lexer": "ipython3",
   "version": "3.12.8"
  }
 },
 "nbformat": 4,
 "nbformat_minor": 5
}
