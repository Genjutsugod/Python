{
 "cells": [
  {
   "cell_type": "markdown",
   "id": "ecee383e-4d7e-4136-bc17-9e23cb96522c",
   "metadata": {},
   "source": [
    "This Mini Project is just a spelling corrector if we provide we words with incorrect spelling the system will provide us with correct speling to same words this is a good use of For Loop "
   ]
  },
  {
   "cell_type": "code",
   "execution_count": 1,
   "id": "848a3f6f-a3fa-4238-861f-cea04bc966e9",
   "metadata": {},
   "outputs": [],
   "source": [
    "#lets import library\n",
    "from textblob import TextBlob"
   ]
  },
  {
   "cell_type": "code",
   "execution_count": 6,
   "id": "f765e384-06dc-49b4-a142-3e527485d9cb",
   "metadata": {},
   "outputs": [
    {
     "name": "stdout",
     "output_type": "stream",
     "text": [
      "Wrong words : ['Pytho', 'Progrmin']\n",
      "corrected Words are : \n",
      "Myth Progrmin "
     ]
    }
   ],
   "source": [
    "#we will Take input from user\n",
    "\n",
    "words = [\"Pytho\", \"Progrmin\"]\n",
    "corrected_words = []\n",
    "for i in words:\n",
    "    corrected_words.append(TextBlob(i))\n",
    "print(\"Wrong words :\", words)\n",
    "print(\"corrected Words are : \")\n",
    "for i in corrected_words:\n",
    "    print(i.correct(), end=\" \")"
   ]
  },
  {
   "cell_type": "code",
   "execution_count": null,
   "id": "7bfe6b4f-09e2-4f0c-82de-bba230981e42",
   "metadata": {},
   "outputs": [],
   "source": []
  }
 ],
 "metadata": {
  "kernelspec": {
   "display_name": "Python 3 (ipykernel)",
   "language": "python",
   "name": "python3"
  },
  "language_info": {
   "codemirror_mode": {
    "name": "ipython",
    "version": 3
   },
   "file_extension": ".py",
   "mimetype": "text/x-python",
   "name": "python",
   "nbconvert_exporter": "python",
   "pygments_lexer": "ipython3",
   "version": "3.12.8"
  }
 },
 "nbformat": 4,
 "nbformat_minor": 5
}
